{
  "nbformat": 4,
  "nbformat_minor": 0,
  "metadata": {
    "colab": {
      "provenance": [],
      "authorship_tag": "ABX9TyOwIo5MTbIcrc7LDiZQ4RVK",
      "include_colab_link": true
    },
    "kernelspec": {
      "name": "python3",
      "display_name": "Python 3"
    },
    "language_info": {
      "name": "python"
    }
  },
  "cells": [
    {
      "cell_type": "markdown",
      "metadata": {
        "id": "view-in-github",
        "colab_type": "text"
      },
      "source": [
        "<a href=\"https://colab.research.google.com/github/RanaFaseh/Project-3-Guess-the-Number-Game-Python-Project-user-/blob/main/Project_3_Guess_the_Number_Game_Python_Project_(user).ipynb\" target=\"_parent\"><img src=\"https://colab.research.google.com/assets/colab-badge.svg\" alt=\"Open In Colab\"/></a>"
      ]
    },
    {
      "cell_type": "code",
      "source": [
        "import random\n",
        "\n",
        "def computer_guess(x):\n",
        "    low = 1\n",
        "    high = x\n",
        "    feedback = ''\n",
        "    while feedback != 'c':\n",
        "        if low != high:\n",
        "            guess = random.randint(low, high)\n",
        "        else:\n",
        "            guess = low\n",
        "        feedback = input(f'Is {guess} too high (H), too low (L), or correct (C)?? ').lower()\n",
        "        if feedback == 'h':\n",
        "            high = guess - 1\n",
        "        elif feedback == 'l':\n",
        "            low = guess + 1\n",
        "\n",
        "    print(f'Yay! The computer guessed your number, {guess}, correctly!')\n",
        "\n",
        "\n",
        "computer_guess(100)"
      ],
      "metadata": {
        "colab": {
          "base_uri": "https://localhost:8080/"
        },
        "id": "MeVjvzPF1iXM",
        "outputId": "0c9348be-5c76-4da3-b077-a8b38bad6991"
      },
      "execution_count": 2,
      "outputs": [
        {
          "output_type": "stream",
          "name": "stdout",
          "text": [
            "Is 94 too high (H), too low (L), or correct (C)?? h\n",
            "Is 26 too high (H), too low (L), or correct (C)?? l\n",
            "Is 72 too high (H), too low (L), or correct (C)?? h\n",
            "Is 56 too high (H), too low (L), or correct (C)?? h\n",
            "Is 32 too high (H), too low (L), or correct (C)?? l\n",
            "Is 34 too high (H), too low (L), or correct (C)?? l\n",
            "Is 54 too high (H), too low (L), or correct (C)?? h\n",
            "Is 48 too high (H), too low (L), or correct (C)?? l\n",
            "Is 53 too high (H), too low (L), or correct (C)?? h\n",
            "Is 51 too high (H), too low (L), or correct (C)?? h\n",
            "Is 50 too high (H), too low (L), or correct (C)?? c\n",
            "Yay! The computer guessed your number, 50, correctly!\n"
          ]
        }
      ]
    }
  ]
}